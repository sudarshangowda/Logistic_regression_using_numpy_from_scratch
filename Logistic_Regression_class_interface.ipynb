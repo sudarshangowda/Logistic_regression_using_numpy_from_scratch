{
  "nbformat": 4,
  "nbformat_minor": 0,
  "metadata": {
    "colab": {
      "name": "ML_lab_Logistic_Regression_class_interface.ipynb",
      "provenance": [],
      "collapsed_sections": []
    },
    "kernelspec": {
      "name": "python3",
      "display_name": "Python 3"
    },
    "language_info": {
      "name": "python"
    }
  },
  "cells": [
    {
      "cell_type": "code",
      "metadata": {
        "id": "qG40yWbKbkF4"
      },
      "source": [
        "# importing all the required libraries\n",
        "import os\n",
        "import re\n",
        "import codecs\n",
        "import math\n",
        "import itertools\n",
        "import numpy as np\n",
        "import matplotlib.pyplot as plt\n",
        "import seaborn as sns\n",
        "from IPython.display import HTML\n",
        "from sklearn.datasets import load_files\n",
        "from sklearn import feature_extraction\n",
        "from sklearn import metrics"
      ],
      "execution_count": null,
      "outputs": []
    },
    {
      "cell_type": "code",
      "metadata": {
        "id": "oS2yi_lvbwVZ"
      },
      "source": [
        "n_samples = 1000  #number of samples "
      ],
      "execution_count": null,
      "outputs": []
    },
    {
      "cell_type": "code",
      "metadata": {
        "colab": {
          "base_uri": "https://localhost:8080/"
        },
        "id": "TaiW1Lz6b7b1",
        "outputId": "cfd5d7a4-da3e-4956-810e-32029552fc82"
      },
      "source": [
        "# creating artificial data \n",
        "mean = [5, 9] \n",
        "cov = [[2.5, 0.8], [0.8, 0.5]]\n",
        "X_p = np.random.multivariate_normal(mean, cov, n_samples).T\n",
        "X_p.shape"
      ],
      "execution_count": null,
      "outputs": [
        {
          "output_type": "execute_result",
          "data": {
            "text/plain": [
              "(2, 1000)"
            ]
          },
          "metadata": {
            "tags": []
          },
          "execution_count": 93
        }
      ]
    },
    {
      "cell_type": "code",
      "metadata": {
        "colab": {
          "base_uri": "https://localhost:8080/"
        },
        "id": "kt9DXVvRb8BK",
        "outputId": "803fad9b-ddb8-4328-88f9-94537ad339ae"
      },
      "source": [
        "cov = [[3, -1.3], [-1.3, 1.2]]\n",
        "X_n_1 = np.random.multivariate_normal([11, 2], cov, int(n_samples/2)).T\n",
        "X_n_2 = np.random.multivariate_normal([5, 1], cov, n_samples-int(n_samples/2)).T\n",
        "X_n = np.hstack([X_n_1, X_n_2])\n",
        "X_n.shape"
      ],
      "execution_count": null,
      "outputs": [
        {
          "output_type": "execute_result",
          "data": {
            "text/plain": [
              "(2, 1000)"
            ]
          },
          "metadata": {
            "tags": []
          },
          "execution_count": 86
        }
      ]
    },
    {
      "cell_type": "code",
      "metadata": {
        "colab": {
          "base_uri": "https://localhost:8080/",
          "height": 286
        },
        "id": "zV15uMxyb-Q9",
        "outputId": "b4ebf950-9484-4299-e255-cba4827841cd"
      },
      "source": [
        "fig = plt.figure()\n",
        "ax = fig.add_subplot(111)\n",
        "ax.scatter(X_p[0], X_p[1], color=\"orange\")\n",
        "ax.scatter(X_n[0], X_n[1], color=\"green\")\n",
        "ax.set_ylim(-4, 15)\n",
        "ax.set_xlim(-4, 15)"
      ],
      "execution_count": null,
      "outputs": [
        {
          "output_type": "execute_result",
          "data": {
            "text/plain": [
              "(-4.0, 15.0)"
            ]
          },
          "metadata": {
            "tags": []
          },
          "execution_count": 87
        },
        {
          "output_type": "display_data",
          "data": {
            "image/png": "[encoded data removed]",
            "text/plain": [
              "<Figure size 432x288 with 1 Axes>"
            ]
          },
          "metadata": {
            "tags": [],
            "needs_background": "light"
          }
        }
      ]
    },
    {
      "cell_type": "code",
      "metadata": {
        "colab": {
          "base_uri": "https://localhost:8080/"
        },
        "id": "5xRlTxdNcFaS",
        "outputId": "ff3df649-0b01-44af-af5a-08114103a432"
      },
      "source": [
        "XY_p = np.vstack([X_p, np.ones_like(X_p[0])])\n",
        "XY_n = np.vstack([X_n, np.zeros_like(X_n[0])])\n",
        "XY_n.shape"
      ],
      "execution_count": null,
      "outputs": [
        {
          "output_type": "execute_result",
          "data": {
            "text/plain": [
              "(3, 1000)"
            ]
          },
          "metadata": {
            "tags": []
          },
          "execution_count": 88
        }
      ]
    },
    {
      "cell_type": "code",
      "metadata": {
        "colab": {
          "base_uri": "https://localhost:8080/"
        },
        "id": "HFRvCrVacIqu",
        "outputId": "bb178d7f-b6f0-4e95-a1e5-de5800a42aa2"
      },
      "source": [
        "\n",
        "XY = np.hstack([XY_n, XY_p])\n",
        "data_XY = np.copy(XY).T\n",
        "np.random.shuffle(data_XY)\n",
        "data_train = data_XY[:1600]\n",
        "data_test = data_XY[:400]\n",
        "data_train.shape"
      ],
      "execution_count": null,
      "outputs": [
        {
          "output_type": "execute_result",
          "data": {
            "text/plain": [
              "(1600, 3)"
            ]
          },
          "metadata": {
            "tags": []
          },
          "execution_count": 89
        }
      ]
    },
    {
      "cell_type": "code",
      "metadata": {
        "colab": {
          "base_uri": "https://localhost:8080/"
        },
        "id": "gOnCyWqkcKhd",
        "outputId": "168a67f8-c986-4b1b-a7f0-700857a03ab9"
      },
      "source": [
        "data_train[1]"
      ],
      "execution_count": null,
      "outputs": [
        {
          "output_type": "execute_result",
          "data": {
            "text/plain": [
              "array([ 6.38750054, 10.21303468,  1.        ])"
            ]
          },
          "metadata": {
            "tags": []
          },
          "execution_count": 90
        }
      ]
    },
    {
      "cell_type": "code",
      "metadata": {
        "colab": {
          "base_uri": "https://localhost:8080/"
        },
        "id": "I5KcLy1TcQ5E",
        "outputId": "ff738d16-c364-41e9-f6ba-ec4e0b8a9ff5"
      },
      "source": [
        "data_test[:,:2][0]  # Is this point in class 0 or 1?"
      ],
      "execution_count": null,
      "outputs": [
        {
          "output_type": "execute_result",
          "data": {
            "text/plain": [
              "array([11.83782005,  3.08786969])"
            ]
          },
          "metadata": {
            "tags": []
          },
          "execution_count": 42
        }
      ]
    },
    {
      "cell_type": "code",
      "metadata": {
        "colab": {
          "base_uri": "https://localhost:8080/"
        },
        "id": "ZDCCCnjzcVvG",
        "outputId": "ff7aa2f4-ea50-46cb-f57e-90a9d34929ed"
      },
      "source": [
        "data_test[:,2][0]  # It is in this class, but we may only guess it with information from data_train!"
      ],
      "execution_count": null,
      "outputs": [
        {
          "output_type": "execute_result",
          "data": {
            "text/plain": [
              "0.0"
            ]
          },
          "metadata": {
            "tags": []
          },
          "execution_count": 43
        }
      ]
    },
    {
      "cell_type": "code",
      "metadata": {
        "id": "7_oOKnkUR3Yp"
      },
      "source": [
        "data_train_X = data_train[:, :2]     #separating train data from whole data\n",
        "data_train_Y = data_train[:, 2]"
      ],
      "execution_count": null,
      "outputs": []
    },
    {
      "cell_type": "code",
      "metadata": {
        "id": "Fr2o7TuwSPNN"
      },
      "source": [
        "data_test_X = data_test[:, :2]        #separating test data from whole data\n",
        "data_test_Y = data_test[:, 2]"
      ],
      "execution_count": null,
      "outputs": []
    },
    {
      "cell_type": "code",
      "metadata": {
        "id": "KY8SL3xCcbeu"
      },
      "source": [
        "def sigmoid(x):\n",
        "    return 1 / (1 + np.exp(-x))"
      ],
      "execution_count": null,
      "outputs": []
    },
    {
      "cell_type": "code",
      "metadata": {
        "colab": {
          "base_uri": "https://localhost:8080/"
        },
        "id": "eO9s7UQ-cok8",
        "outputId": "66a6932c-33d7-4f42-b958-0da9e1a93899"
      },
      "source": [
        "data_train_X[:,:2][0], data_train_Y[0]"
      ],
      "execution_count": null,
      "outputs": [
        {
          "output_type": "execute_result",
          "data": {
            "text/plain": [
              "(array([11.83782005,  3.08786969]), 0.0)"
            ]
          },
          "metadata": {
            "tags": []
          },
          "execution_count": 47
        }
      ]
    },
    {
      "cell_type": "code",
      "metadata": {
        "id": "VgonBL7yUoWY"
      },
      "source": [
        "X_t = np.concatenate((data_train_X, data_test_X), axis =0)   #adding train data and test data to create \"X (feture)\" variable"
      ],
      "execution_count": null,
      "outputs": []
    },
    {
      "cell_type": "code",
      "metadata": {
        "id": "Bv5ylBnzGOPk"
      },
      "source": [
        "ones = np.ones([len(data_XY), 1])       # creating bias or intecept as new column"
      ],
      "execution_count": null,
      "outputs": []
    },
    {
      "cell_type": "code",
      "metadata": {
        "id": "PDYdlzfpGYgQ"
      },
      "source": [
        "X_total = np.concatenate((ones, X_t), axis=1)  # adding both train data (only features) and bias column"
      ],
      "execution_count": null,
      "outputs": []
    },
    {
      "cell_type": "code",
      "metadata": {
        "colab": {
          "base_uri": "https://localhost:8080/"
        },
        "id": "8NQ6kTIcZoGt",
        "outputId": "b2bbd258-17a9-42c2-e608-ffe587e19eb6"
      },
      "source": [
        "data_train_wb_X = X_total[:1600]       #this is the shape of the data after adding bias column\n",
        "data_train_wb_X.shape             "
      ],
      "execution_count": null,
      "outputs": [
        {
          "output_type": "execute_result",
          "data": {
            "text/plain": [
              "(1600, 3)"
            ]
          },
          "metadata": {
            "tags": []
          },
          "execution_count": 51
        }
      ]
    },
    {
      "cell_type": "code",
      "metadata": {
        "colab": {
          "base_uri": "https://localhost:8080/"
        },
        "id": "zywZqEP3bGN7",
        "outputId": "e7e7ce80-f0df-4627-9c55-16aab4c437c2"
      },
      "source": [
        "data_test_wb_X= X_total[:400]\n",
        "data_test_wb_X.shape                  "
      ],
      "execution_count": null,
      "outputs": [
        {
          "output_type": "execute_result",
          "data": {
            "text/plain": [
              "(400, 3)"
            ]
          },
          "metadata": {
            "tags": []
          },
          "execution_count": 52
        }
      ]
    },
    {
      "cell_type": "code",
      "metadata": {
        "id": "y2R386-tVDmE"
      },
      "source": [
        "Y_total= np.concatenate((data_train_Y, data_test_Y), axis =0)   #adding train data and test data to create target variable"
      ],
      "execution_count": null,
      "outputs": []
    },
    {
      "cell_type": "code",
      "metadata": {
        "colab": {
          "base_uri": "https://localhost:8080/"
        },
        "id": "p8XdDUppa3ch",
        "outputId": "a002403a-000d-44d9-de23-17496db9033e"
      },
      "source": [
        "data_train_wb_Y = Y_total[:1600]\n",
        "data_train_wb_Y.shape                        #shape of the target variable train data"
      ],
      "execution_count": null,
      "outputs": [
        {
          "output_type": "execute_result",
          "data": {
            "text/plain": [
              "(1600,)"
            ]
          },
          "metadata": {
            "tags": []
          },
          "execution_count": 64
        }
      ]
    },
    {
      "cell_type": "code",
      "metadata": {
        "colab": {
          "base_uri": "https://localhost:8080/"
        },
        "id": "AJtFYbntaFVs",
        "outputId": "a9f0c4a4-a264-4577-bb7f-1fcd8bac7411"
      },
      "source": [
        "data_test_wb_Y= Y_total[:400]                #shape of the target test data\n",
        "data_test_wb_Y.shape"
      ],
      "execution_count": null,
      "outputs": [
        {
          "output_type": "execute_result",
          "data": {
            "text/plain": [
              "(400,)"
            ]
          },
          "metadata": {
            "tags": []
          },
          "execution_count": 67
        }
      ]
    },
    {
      "cell_type": "code",
      "metadata": {
        "id": "ag850ZawVoTd"
      },
      "source": [
        "parameters= np.zeros([2+1, 1])   # initiatzing first parameters as zeros "
      ],
      "execution_count": null,
      "outputs": []
    },
    {
      "cell_type": "code",
      "metadata": {
        "colab": {
          "base_uri": "https://localhost:8080/"
        },
        "id": "TwdItR1MWSYc",
        "outputId": "1908e648-dfbd-4fbf-f6c7-6bad175f39d1"
      },
      "source": [
        "X_total.shape, Y_total.shape, parameters.shape      #shapes of features, target, and parameters variavles"
      ],
      "execution_count": null,
      "outputs": [
        {
          "output_type": "execute_result",
          "data": {
            "text/plain": [
              "((2000, 3), (2000,), (3, 1))"
            ]
          },
          "metadata": {
            "tags": []
          },
          "execution_count": 69
        }
      ]
    },
    {
      "cell_type": "code",
      "metadata": {
        "id": "pcpSYVmbMcoD"
      },
      "source": [
        "#creating class interface for logistic regression \n",
        "class LogisticRegression():\n",
        "  def __init__(self, X, y, learning_rate=0.1, iterations =500):\n",
        "\n",
        "    self.learning_rate = learning_rate\n",
        "    self.iterations = iterations\n",
        "    self.n_samples = len(Y_total)\n",
        "    self.trainx = data_train_wb_X\n",
        "    self.trainy = data_train_wb_Y\n",
        "    self.X = X_total                      \n",
        "    self.y = Y_total\n",
        "    self.train_data = len(data_train_wb_Y)\n",
        "    self.param = np.zeros([1, 2+1]).T\n",
        "    self.h =sigmoid(np.dot(X, self.param))                                  # this is the hypothesis we need to calculate\n",
        "    self.coef = None\n",
        "    self.intercept = None\n",
        "\n",
        "  def compute_loss(self, X, y, param, epsilon: float = 1e-5):               #function for calculating loss\n",
        "    self.h = sigmoid(np.dot(X, self.param))\n",
        "    self.loss = (1/self.n_samples)*(((-y) @ np.log(self.h + epsilon))-((1-y) @ np.log(1-self.h + epsilon)))  \n",
        "    return self\n",
        "\n",
        "  def fit(self):                              #training the model using stochastic gradient descent \n",
        "    self.cost_history = np.zeros(self.iterations)\n",
        "    for iter in range(self.iterations):\n",
        "      cost =0.0\n",
        "      for i in range(self.n_samples):\n",
        "        rand_ind = np.random.randint(0, self.train_data)          #taking random rows from the train data to iteratively update parameters by finding loss \n",
        "        self.X_i = self.trainx[rand_ind, :].reshape(1, self.trainx.shape[1])\n",
        "        self.y_i = self.trainy[rand_ind].reshape(1,1)\n",
        "        #this is the partial derivative of the stochastic gradient descent equation generlized form\n",
        "      self.param = self.param - (self.learning_rate/self.n_samples) * (np.dot(self.X_i.T, (sigmoid(np.dot(self.X_i, self.param))) - self.y_i))\n",
        "      self.cost= self.compute_loss(self.X_i, self.y_i, self.param)\n",
        "      self.cost_history = self.cost\n",
        "    return self\n",
        "\n",
        "  def predict(self, X):                           #function to find traget \n",
        "    y = np.round(sigmoid(np.dot(X, self.param)))\n",
        "    return y\n",
        "\n",
        "  def get_param(self):\n",
        "    return self.param \n"
      ],
      "execution_count": null,
      "outputs": []
    },
    {
      "cell_type": "code",
      "metadata": {
        "id": "tcgwsLkvRm0O"
      },
      "source": [
        "logreg = LogisticRegression(X_total,Y_total).fit()"
      ],
      "execution_count": null,
      "outputs": []
    },
    {
      "cell_type": "code",
      "metadata": {
        "colab": {
          "base_uri": "https://localhost:8080/"
        },
        "id": "6HeSWjUPUP41",
        "outputId": "b04402eb-1163-484f-9207-de7aa1e226a2"
      },
      "source": [
        "param = logreg.get_param()           #these are the optimal parameters for this model\n",
        "param    "
      ],
      "execution_count": null,
      "outputs": [
        {
          "output_type": "execute_result",
          "data": {
            "text/plain": [
              "array([[-0.00043945],\n",
              "       [-0.01937725],\n",
              "       [ 0.04115051]])"
            ]
          },
          "metadata": {
            "tags": []
          },
          "execution_count": 79
        }
      ]
    },
    {
      "cell_type": "code",
      "metadata": {
        "id": "cCBInuJuVdtp"
      },
      "source": [
        "pred_y = logreg.predict(data_test_wb_X)  #predicting targets for test data"
      ],
      "execution_count": null,
      "outputs": []
    },
    {
      "cell_type": "code",
      "metadata": {
        "colab": {
          "base_uri": "https://localhost:8080/"
        },
        "id": "Yn6HZRQb9m8k",
        "outputId": "48ad9f02-0b55-46da-89c1-a2d50c85fe7b"
      },
      "source": [
        "print('Accuracy: %2.2f %%' % (100. * metrics.accuracy_score(data_test_wb_Y, pred_y)))     "
      ],
      "execution_count": null,
      "outputs": [
        {
          "output_type": "stream",
          "text": [
            "Accuracy: 92.00 %\n"
          ],
          "name": "stdout"
        }
      ]
    },
    {
      "cell_type": "code",
      "metadata": {
        "id": "x9PusRpglsvi"
      },
      "source": [
        ""
      ],
      "execution_count": null,
      "outputs": []
    },
    {
      "cell_type": "code",
      "metadata": {
        "id": "m9KXEWYqlsjk"
      },
      "source": [
        ""
      ],
      "execution_count": null,
      "outputs": []
    }
  ]
}